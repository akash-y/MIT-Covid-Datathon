{
 "cells": [
  {
   "cell_type": "code",
   "execution_count": 2,
   "metadata": {},
   "outputs": [],
   "source": [
    "import pandas as pd\n",
    "import geopandas as gpd\n",
    "import numpy as np"
   ]
  },
  {
   "cell_type": "code",
   "execution_count": 3,
   "metadata": {},
   "outputs": [],
   "source": [
    "d1 = gpd.read_file('NYBronx1938.geojson')\n",
    "d2 = gpd.read_file('NYBrooklyn1938.geojson')\n",
    "d3 = gpd.read_file('NYManhattan1937.geojson')\n",
    "d4 = gpd.read_file('NYQueens1938.geojson')\n",
    "d5 = gpd.read_file('NYStatenIsland1940.geojson')"
   ]
  },
  {
   "cell_type": "code",
   "execution_count": 4,
   "metadata": {},
   "outputs": [
    {
     "data": {
      "text/html": [
       "<div>\n",
       "<style scoped>\n",
       "    .dataframe tbody tr th:only-of-type {\n",
       "        vertical-align: middle;\n",
       "    }\n",
       "\n",
       "    .dataframe tbody tr th {\n",
       "        vertical-align: top;\n",
       "    }\n",
       "\n",
       "    .dataframe thead th {\n",
       "        text-align: right;\n",
       "    }\n",
       "</style>\n",
       "<table border=\"1\" class=\"dataframe\">\n",
       "  <thead>\n",
       "    <tr style=\"text-align: right;\">\n",
       "      <th></th>\n",
       "      <th>name</th>\n",
       "      <th>holc_id</th>\n",
       "      <th>holc_grade</th>\n",
       "      <th>area_description_data</th>\n",
       "      <th>geometry</th>\n",
       "    </tr>\n",
       "  </thead>\n",
       "  <tbody>\n",
       "    <tr>\n",
       "      <th>0</th>\n",
       "      <td>None</td>\n",
       "      <td>A1</td>\n",
       "      <td>A</td>\n",
       "      <td>{'0': 'New York City, N.Y. ', '5': 'The major ...</td>\n",
       "      <td>MULTIPOLYGON (((-73.90345 40.91062, -73.90386 ...</td>\n",
       "    </tr>\n",
       "    <tr>\n",
       "      <th>1</th>\n",
       "      <td>None</td>\n",
       "      <td>A2</td>\n",
       "      <td>A</td>\n",
       "      <td>{'0': 'New York City, N.Y.', '5': 'This is the...</td>\n",
       "      <td>MULTIPOLYGON (((-73.89916 40.89286, -73.89934 ...</td>\n",
       "    </tr>\n",
       "    <tr>\n",
       "      <th>2</th>\n",
       "      <td>None</td>\n",
       "      <td>B1</td>\n",
       "      <td>B</td>\n",
       "      <td>{'0': 'New York City, N.Y.', '5': 'The recentl...</td>\n",
       "      <td>MULTIPOLYGON (((-73.90652 40.90060, -73.90633 ...</td>\n",
       "    </tr>\n",
       "    <tr>\n",
       "      <th>3</th>\n",
       "      <td>None</td>\n",
       "      <td>B10</td>\n",
       "      <td>B</td>\n",
       "      <td>{'0': 'New York City, N. Y.', '5': 'A small se...</td>\n",
       "      <td>MULTIPOLYGON (((-73.85101 40.85032, -73.85482 ...</td>\n",
       "    </tr>\n",
       "    <tr>\n",
       "      <th>4</th>\n",
       "      <td>None</td>\n",
       "      <td>B11</td>\n",
       "      <td>B</td>\n",
       "      <td>{'0': 'New York City, N.Y.', '5': 'This sectio...</td>\n",
       "      <td>MULTIPOLYGON (((-73.83816 40.85735, -73.83848 ...</td>\n",
       "    </tr>\n",
       "  </tbody>\n",
       "</table>\n",
       "</div>"
      ],
      "text/plain": [
       "   name holc_id holc_grade                              area_description_data  \\\n",
       "0  None      A1          A  {'0': 'New York City, N.Y. ', '5': 'The major ...   \n",
       "1  None      A2          A  {'0': 'New York City, N.Y.', '5': 'This is the...   \n",
       "2  None      B1          B  {'0': 'New York City, N.Y.', '5': 'The recentl...   \n",
       "3  None     B10          B  {'0': 'New York City, N. Y.', '5': 'A small se...   \n",
       "4  None     B11          B  {'0': 'New York City, N.Y.', '5': 'This sectio...   \n",
       "\n",
       "                                            geometry  \n",
       "0  MULTIPOLYGON (((-73.90345 40.91062, -73.90386 ...  \n",
       "1  MULTIPOLYGON (((-73.89916 40.89286, -73.89934 ...  \n",
       "2  MULTIPOLYGON (((-73.90652 40.90060, -73.90633 ...  \n",
       "3  MULTIPOLYGON (((-73.85101 40.85032, -73.85482 ...  \n",
       "4  MULTIPOLYGON (((-73.83816 40.85735, -73.83848 ...  "
      ]
     },
     "execution_count": 4,
     "metadata": {},
     "output_type": "execute_result"
    }
   ],
   "source": [
    "d1.head()"
   ]
  },
  {
   "cell_type": "code",
   "execution_count": 5,
   "metadata": {},
   "outputs": [
    {
     "data": {
      "text/html": [
       "<div>\n",
       "<style scoped>\n",
       "    .dataframe tbody tr th:only-of-type {\n",
       "        vertical-align: middle;\n",
       "    }\n",
       "\n",
       "    .dataframe tbody tr th {\n",
       "        vertical-align: top;\n",
       "    }\n",
       "\n",
       "    .dataframe thead th {\n",
       "        text-align: right;\n",
       "    }\n",
       "</style>\n",
       "<table border=\"1\" class=\"dataframe\">\n",
       "  <thead>\n",
       "    <tr style=\"text-align: right;\">\n",
       "      <th></th>\n",
       "      <th>name</th>\n",
       "      <th>holc_id</th>\n",
       "      <th>holc_grade</th>\n",
       "      <th>area_description_data</th>\n",
       "      <th>geometry</th>\n",
       "    </tr>\n",
       "  </thead>\n",
       "  <tbody>\n",
       "    <tr>\n",
       "      <th>0</th>\n",
       "      <td>None</td>\n",
       "      <td>A1</td>\n",
       "      <td>A</td>\n",
       "      <td>{'3': '90 5 ', '5': '%5 high class apartments ...</td>\n",
       "      <td>MULTIPOLYGON (((-74.03557 40.61345, -74.03618 ...</td>\n",
       "    </tr>\n",
       "    <tr>\n",
       "      <th>1</th>\n",
       "      <td>None</td>\n",
       "      <td>B1</td>\n",
       "      <td>B</td>\n",
       "      <td>{'3': '25 15 5', '5': '20% high class apartmen...</td>\n",
       "      <td>MULTIPOLYGON (((-73.99356 40.69191, -73.99411 ...</td>\n",
       "    </tr>\n",
       "    <tr>\n",
       "      <th>2</th>\n",
       "      <td>None</td>\n",
       "      <td>B10</td>\n",
       "      <td>B</td>\n",
       "      <td>{'3': '40 35 10', '5': '15% apartments 3-4 sto...</td>\n",
       "      <td>MULTIPOLYGON (((-73.97611 40.61724, -73.97509 ...</td>\n",
       "    </tr>\n",
       "    <tr>\n",
       "      <th>3</th>\n",
       "      <td>None</td>\n",
       "      <td>B11</td>\n",
       "      <td>B</td>\n",
       "      <td>{'3': '80 20 ', '5': 'A 6-story apartment hous...</td>\n",
       "      <td>MULTIPOLYGON (((-73.96623 40.62860, -73.96510 ...</td>\n",
       "    </tr>\n",
       "    <tr>\n",
       "      <th>4</th>\n",
       "      <td>None</td>\n",
       "      <td>B12</td>\n",
       "      <td>B</td>\n",
       "      <td>{'3': '95  ', '5': 'About 5% of the houses, si...</td>\n",
       "      <td>MULTIPOLYGON (((-73.96561 40.60040, -73.96546 ...</td>\n",
       "    </tr>\n",
       "  </tbody>\n",
       "</table>\n",
       "</div>"
      ],
      "text/plain": [
       "   name holc_id holc_grade                              area_description_data  \\\n",
       "0  None      A1          A  {'3': '90 5 ', '5': '%5 high class apartments ...   \n",
       "1  None      B1          B  {'3': '25 15 5', '5': '20% high class apartmen...   \n",
       "2  None     B10          B  {'3': '40 35 10', '5': '15% apartments 3-4 sto...   \n",
       "3  None     B11          B  {'3': '80 20 ', '5': 'A 6-story apartment hous...   \n",
       "4  None     B12          B  {'3': '95  ', '5': 'About 5% of the houses, si...   \n",
       "\n",
       "                                            geometry  \n",
       "0  MULTIPOLYGON (((-74.03557 40.61345, -74.03618 ...  \n",
       "1  MULTIPOLYGON (((-73.99356 40.69191, -73.99411 ...  \n",
       "2  MULTIPOLYGON (((-73.97611 40.61724, -73.97509 ...  \n",
       "3  MULTIPOLYGON (((-73.96623 40.62860, -73.96510 ...  \n",
       "4  MULTIPOLYGON (((-73.96561 40.60040, -73.96546 ...  "
      ]
     },
     "execution_count": 5,
     "metadata": {},
     "output_type": "execute_result"
    }
   ],
   "source": [
    "d2.head()"
   ]
  },
  {
   "cell_type": "code",
   "execution_count": 9,
   "metadata": {},
   "outputs": [],
   "source": [
    "gdf = pd.concat([d1, d2,d3,d4,d5])"
   ]
  },
  {
   "cell_type": "code",
   "execution_count": 12,
   "metadata": {},
   "outputs": [
    {
     "data": {
      "text/plain": [
       "(44, 5)"
      ]
     },
     "execution_count": 12,
     "metadata": {},
     "output_type": "execute_result"
    }
   ],
   "source": [
    "d1.shape"
   ]
  },
  {
   "cell_type": "code",
   "execution_count": 16,
   "metadata": {},
   "outputs": [],
   "source": [
    "di = {'A': \"Poor\", 'B': \"Desirable\", 'C':'Hazardous','D':'Low-Risk'}"
   ]
  },
  {
   "cell_type": "code",
   "execution_count": 21,
   "metadata": {},
   "outputs": [],
   "source": [
    "gdf = gdf.replace({\"holc_grade\": di})"
   ]
  },
  {
   "cell_type": "code",
   "execution_count": null,
   "metadata": {},
   "outputs": [],
   "source": []
  },
  {
   "cell_type": "code",
   "execution_count": 22,
   "metadata": {},
   "outputs": [],
   "source": [
    "gdf.to_file(\"all-output.geojson\", driver=\"GeoJSON\")"
   ]
  },
  {
   "cell_type": "code",
   "execution_count": 23,
   "metadata": {},
   "outputs": [],
   "source": [
    "d = gpd.read_file('all-output.geojson')"
   ]
  },
  {
   "cell_type": "code",
   "execution_count": 24,
   "metadata": {},
   "outputs": [
    {
     "data": {
      "text/html": [
       "<div>\n",
       "<style scoped>\n",
       "    .dataframe tbody tr th:only-of-type {\n",
       "        vertical-align: middle;\n",
       "    }\n",
       "\n",
       "    .dataframe tbody tr th {\n",
       "        vertical-align: top;\n",
       "    }\n",
       "\n",
       "    .dataframe thead th {\n",
       "        text-align: right;\n",
       "    }\n",
       "</style>\n",
       "<table border=\"1\" class=\"dataframe\">\n",
       "  <thead>\n",
       "    <tr style=\"text-align: right;\">\n",
       "      <th></th>\n",
       "      <th>name</th>\n",
       "      <th>holc_id</th>\n",
       "      <th>holc_grade</th>\n",
       "      <th>area_description_data</th>\n",
       "      <th>geometry</th>\n",
       "    </tr>\n",
       "  </thead>\n",
       "  <tbody>\n",
       "    <tr>\n",
       "      <th>0</th>\n",
       "      <td>None</td>\n",
       "      <td>A1</td>\n",
       "      <td>Poor</td>\n",
       "      <td>{'0': 'New York City, N.Y. ', '5': 'The major ...</td>\n",
       "      <td>MULTIPOLYGON (((-73.90345 40.91062, -73.90386 ...</td>\n",
       "    </tr>\n",
       "    <tr>\n",
       "      <th>1</th>\n",
       "      <td>None</td>\n",
       "      <td>A2</td>\n",
       "      <td>Poor</td>\n",
       "      <td>{'0': 'New York City, N.Y.', '5': 'This is the...</td>\n",
       "      <td>MULTIPOLYGON (((-73.89916 40.89286, -73.89934 ...</td>\n",
       "    </tr>\n",
       "    <tr>\n",
       "      <th>2</th>\n",
       "      <td>None</td>\n",
       "      <td>B1</td>\n",
       "      <td>Desirable</td>\n",
       "      <td>{'0': 'New York City, N.Y.', '5': 'The recentl...</td>\n",
       "      <td>MULTIPOLYGON (((-73.90652 40.90060, -73.90633 ...</td>\n",
       "    </tr>\n",
       "    <tr>\n",
       "      <th>3</th>\n",
       "      <td>None</td>\n",
       "      <td>B10</td>\n",
       "      <td>Desirable</td>\n",
       "      <td>{'0': 'New York City, N. Y.', '5': 'A small se...</td>\n",
       "      <td>MULTIPOLYGON (((-73.85101 40.85032, -73.85482 ...</td>\n",
       "    </tr>\n",
       "    <tr>\n",
       "      <th>4</th>\n",
       "      <td>None</td>\n",
       "      <td>B11</td>\n",
       "      <td>Desirable</td>\n",
       "      <td>{'0': 'New York City, N.Y.', '5': 'This sectio...</td>\n",
       "      <td>MULTIPOLYGON (((-73.83816 40.85735, -73.83848 ...</td>\n",
       "    </tr>\n",
       "  </tbody>\n",
       "</table>\n",
       "</div>"
      ],
      "text/plain": [
       "   name holc_id holc_grade                              area_description_data  \\\n",
       "0  None      A1       Poor  {'0': 'New York City, N.Y. ', '5': 'The major ...   \n",
       "1  None      A2       Poor  {'0': 'New York City, N.Y.', '5': 'This is the...   \n",
       "2  None      B1  Desirable  {'0': 'New York City, N.Y.', '5': 'The recentl...   \n",
       "3  None     B10  Desirable  {'0': 'New York City, N. Y.', '5': 'A small se...   \n",
       "4  None     B11  Desirable  {'0': 'New York City, N.Y.', '5': 'This sectio...   \n",
       "\n",
       "                                            geometry  \n",
       "0  MULTIPOLYGON (((-73.90345 40.91062, -73.90386 ...  \n",
       "1  MULTIPOLYGON (((-73.89916 40.89286, -73.89934 ...  \n",
       "2  MULTIPOLYGON (((-73.90652 40.90060, -73.90633 ...  \n",
       "3  MULTIPOLYGON (((-73.85101 40.85032, -73.85482 ...  \n",
       "4  MULTIPOLYGON (((-73.83816 40.85735, -73.83848 ...  "
      ]
     },
     "execution_count": 24,
     "metadata": {},
     "output_type": "execute_result"
    }
   ],
   "source": [
    "d.head()"
   ]
  },
  {
   "cell_type": "code",
   "execution_count": null,
   "metadata": {},
   "outputs": [],
   "source": []
  }
 ],
 "metadata": {
  "kernelspec": {
   "display_name": "Python 3",
   "language": "python",
   "name": "python3"
  },
  "language_info": {
   "codemirror_mode": {
    "name": "ipython",
    "version": 3
   },
   "file_extension": ".py",
   "mimetype": "text/x-python",
   "name": "python",
   "nbconvert_exporter": "python",
   "pygments_lexer": "ipython3",
   "version": "3.8.1"
  }
 },
 "nbformat": 4,
 "nbformat_minor": 4
}
